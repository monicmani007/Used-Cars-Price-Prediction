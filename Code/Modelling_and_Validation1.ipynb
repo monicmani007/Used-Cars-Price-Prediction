{
 "cells": [
  {
   "cell_type": "code",
   "execution_count": 55,
   "metadata": {},
   "outputs": [],
   "source": [
    "import pandas as pd\n",
    "import numpy as np\n",
    "import scipy\n",
    "import matplotlib.pyplot as plt\n",
    "import math\n",
    "from sklearn.linear_model import LinearRegression\n",
    "import seaborn as sns\n",
    "from sklearn.preprocessing import LabelEncoder\n",
    "from sklearn.preprocessing import OneHotEncoder\n",
    "import sklearn\n",
    "from sklearn import ensemble\n",
    "from sklearn.metrics import mean_squared_error\n",
    "import xgboost as xgb\n",
    "from sklearn.metrics import r2_score\n",
    "from math import sqrt"
   ]
  },
  {
   "cell_type": "code",
   "execution_count": 8,
   "metadata": {},
   "outputs": [],
   "source": [
    "df = pd.read_csv(\"cleaned2.csv\")"
   ]
  },
  {
   "cell_type": "code",
   "execution_count": 9,
   "metadata": {},
   "outputs": [
    {
     "data": {
      "text/html": [
       "<div>\n",
       "<style scoped>\n",
       "    .dataframe tbody tr th:only-of-type {\n",
       "        vertical-align: middle;\n",
       "    }\n",
       "\n",
       "    .dataframe tbody tr th {\n",
       "        vertical-align: top;\n",
       "    }\n",
       "\n",
       "    .dataframe thead th {\n",
       "        text-align: right;\n",
       "    }\n",
       "</style>\n",
       "<table border=\"1\" class=\"dataframe\">\n",
       "  <thead>\n",
       "    <tr style=\"text-align: right;\">\n",
       "      <th></th>\n",
       "      <th>Unnamed: 0</th>\n",
       "      <th>price</th>\n",
       "      <th>year</th>\n",
       "      <th>manufacturer</th>\n",
       "      <th>condition</th>\n",
       "      <th>cylinders</th>\n",
       "      <th>fuel</th>\n",
       "      <th>odometer</th>\n",
       "      <th>title_status</th>\n",
       "      <th>transmission</th>\n",
       "      <th>drive</th>\n",
       "      <th>type</th>\n",
       "      <th>state</th>\n",
       "    </tr>\n",
       "  </thead>\n",
       "  <tbody>\n",
       "    <tr>\n",
       "      <th>0</th>\n",
       "      <td>0</td>\n",
       "      <td>35990</td>\n",
       "      <td>2010.0</td>\n",
       "      <td>chevrolet</td>\n",
       "      <td>good</td>\n",
       "      <td>8 cylinders</td>\n",
       "      <td>gas</td>\n",
       "      <td>32742.0</td>\n",
       "      <td>clean</td>\n",
       "      <td>other</td>\n",
       "      <td>2</td>\n",
       "      <td>other</td>\n",
       "      <td>south</td>\n",
       "    </tr>\n",
       "    <tr>\n",
       "      <th>1</th>\n",
       "      <td>1</td>\n",
       "      <td>7500</td>\n",
       "      <td>2014.0</td>\n",
       "      <td>hyundai</td>\n",
       "      <td>excellent</td>\n",
       "      <td>4 cylinders</td>\n",
       "      <td>gas</td>\n",
       "      <td>93600.0</td>\n",
       "      <td>clean</td>\n",
       "      <td>automatic</td>\n",
       "      <td>2</td>\n",
       "      <td>sedan</td>\n",
       "      <td>south</td>\n",
       "    </tr>\n",
       "    <tr>\n",
       "      <th>2</th>\n",
       "      <td>2</td>\n",
       "      <td>4900</td>\n",
       "      <td>2006.0</td>\n",
       "      <td>bmw</td>\n",
       "      <td>good</td>\n",
       "      <td>6 cylinders</td>\n",
       "      <td>gas</td>\n",
       "      <td>87046.0</td>\n",
       "      <td>clean</td>\n",
       "      <td>automatic</td>\n",
       "      <td>2</td>\n",
       "      <td>SUV</td>\n",
       "      <td>south</td>\n",
       "    </tr>\n",
       "    <tr>\n",
       "      <th>3</th>\n",
       "      <td>5</td>\n",
       "      <td>29590</td>\n",
       "      <td>2016.0</td>\n",
       "      <td>toyota</td>\n",
       "      <td>good</td>\n",
       "      <td>6 cylinders</td>\n",
       "      <td>gas</td>\n",
       "      <td>33290.0</td>\n",
       "      <td>clean</td>\n",
       "      <td>other</td>\n",
       "      <td>4</td>\n",
       "      <td>pickup</td>\n",
       "      <td>south</td>\n",
       "    </tr>\n",
       "    <tr>\n",
       "      <th>4</th>\n",
       "      <td>6</td>\n",
       "      <td>39990</td>\n",
       "      <td>2012.0</td>\n",
       "      <td>ford</td>\n",
       "      <td>good</td>\n",
       "      <td>8 cylinders</td>\n",
       "      <td>gas</td>\n",
       "      <td>9692.0</td>\n",
       "      <td>clean</td>\n",
       "      <td>other</td>\n",
       "      <td>2</td>\n",
       "      <td>coupe</td>\n",
       "      <td>south</td>\n",
       "    </tr>\n",
       "  </tbody>\n",
       "</table>\n",
       "</div>"
      ],
      "text/plain": [
       "   Unnamed: 0  price    year manufacturer  condition    cylinders fuel  \\\n",
       "0           0  35990  2010.0    chevrolet       good  8 cylinders  gas   \n",
       "1           1   7500  2014.0      hyundai  excellent  4 cylinders  gas   \n",
       "2           2   4900  2006.0          bmw       good  6 cylinders  gas   \n",
       "3           5  29590  2016.0       toyota       good  6 cylinders  gas   \n",
       "4           6  39990  2012.0         ford       good  8 cylinders  gas   \n",
       "\n",
       "   odometer title_status transmission  drive    type  state  \n",
       "0   32742.0        clean        other      2   other  south  \n",
       "1   93600.0        clean    automatic      2   sedan  south  \n",
       "2   87046.0        clean    automatic      2     SUV  south  \n",
       "3   33290.0        clean        other      4  pickup  south  \n",
       "4    9692.0        clean        other      2   coupe  south  "
      ]
     },
     "execution_count": 9,
     "metadata": {},
     "output_type": "execute_result"
    }
   ],
   "source": [
    "df.head()"
   ]
  },
  {
   "cell_type": "code",
   "execution_count": 10,
   "metadata": {},
   "outputs": [],
   "source": [
    "df[\"price\"]=np.log1p(df[\"price\"])"
   ]
  },
  {
   "cell_type": "markdown",
   "metadata": {},
   "source": [
    "## Encoding"
   ]
  },
  {
   "cell_type": "markdown",
   "metadata": {},
   "source": [
    "### For Numerical Data"
   ]
  },
  {
   "cell_type": "markdown",
   "metadata": {},
   "source": [
    "#### year"
   ]
  },
  {
   "cell_type": "code",
   "execution_count": 11,
   "metadata": {},
   "outputs": [],
   "source": [
    "year_min = df[\"year\"].min()\n",
    "year_max = df[\"year\"].max()\n",
    "df[\"year\"] = ((df[\"year\"] - year_min) / (year_max - year_min))"
   ]
  },
  {
   "cell_type": "markdown",
   "metadata": {},
   "source": [
    "#### odometer"
   ]
  },
  {
   "cell_type": "code",
   "execution_count": 12,
   "metadata": {},
   "outputs": [],
   "source": [
    "odo_min = df[\"odometer\"].min()\n",
    "odo_max = df[\"odometer\"].max()\n",
    "df[\"odometer\"] = ((df[\"odometer\"] - odo_min) / (odo_max - odo_min))"
   ]
  },
  {
   "cell_type": "markdown",
   "metadata": {},
   "source": [
    "### For Ordinal Data"
   ]
  },
  {
   "cell_type": "markdown",
   "metadata": {},
   "source": [
    "#### cylinders"
   ]
  },
  {
   "cell_type": "code",
   "execution_count": 13,
   "metadata": {},
   "outputs": [],
   "source": [
    "label_encoder = LabelEncoder()\n",
    "label_encoder.fit_transform(list(df['cylinders'].astype(str).values))\n",
    "df['cylinders'] = label_encoder.transform(list(df['cylinders'].astype(str).values))"
   ]
  },
  {
   "cell_type": "code",
   "execution_count": 14,
   "metadata": {},
   "outputs": [],
   "source": [
    "#Normalizing Cylinder\n",
    "cyl_min = df[\"cylinders\"].min()\n",
    "cyl_max = df[\"cylinders\"].max()\n",
    "df[\"cylinders\"] = ((df[\"cylinders\"] - cyl_min) / (cyl_max - cyl_min))"
   ]
  },
  {
   "cell_type": "markdown",
   "metadata": {},
   "source": [
    "### OneHotEncoding"
   ]
  },
  {
   "cell_type": "code",
   "execution_count": 15,
   "metadata": {},
   "outputs": [],
   "source": [
    "train_df = pd.get_dummies(df)"
   ]
  },
  {
   "cell_type": "code",
   "execution_count": 16,
   "metadata": {},
   "outputs": [
    {
     "data": {
      "text/plain": [
       "318824"
      ]
     },
     "execution_count": 16,
     "metadata": {},
     "output_type": "execute_result"
    }
   ],
   "source": [
    "len(train_df)"
   ]
  },
  {
   "cell_type": "code",
   "execution_count": 17,
   "metadata": {},
   "outputs": [
    {
     "data": {
      "text/html": [
       "<div>\n",
       "<style scoped>\n",
       "    .dataframe tbody tr th:only-of-type {\n",
       "        vertical-align: middle;\n",
       "    }\n",
       "\n",
       "    .dataframe tbody tr th {\n",
       "        vertical-align: top;\n",
       "    }\n",
       "\n",
       "    .dataframe thead th {\n",
       "        text-align: right;\n",
       "    }\n",
       "</style>\n",
       "<table border=\"1\" class=\"dataframe\">\n",
       "  <thead>\n",
       "    <tr style=\"text-align: right;\">\n",
       "      <th></th>\n",
       "      <th>Unnamed: 0</th>\n",
       "      <th>price</th>\n",
       "      <th>year</th>\n",
       "      <th>cylinders</th>\n",
       "      <th>odometer</th>\n",
       "      <th>drive</th>\n",
       "      <th>manufacturer_acura</th>\n",
       "      <th>manufacturer_alfa-romeo</th>\n",
       "      <th>manufacturer_aston-martin</th>\n",
       "      <th>manufacturer_audi</th>\n",
       "      <th>...</th>\n",
       "      <th>type_other</th>\n",
       "      <th>type_pickup</th>\n",
       "      <th>type_sedan</th>\n",
       "      <th>type_truck</th>\n",
       "      <th>type_van</th>\n",
       "      <th>type_wagon</th>\n",
       "      <th>state_midwest</th>\n",
       "      <th>state_northeast</th>\n",
       "      <th>state_south</th>\n",
       "      <th>state_west</th>\n",
       "    </tr>\n",
       "  </thead>\n",
       "  <tbody>\n",
       "    <tr>\n",
       "      <th>0</th>\n",
       "      <td>0</td>\n",
       "      <td>10.491024</td>\n",
       "      <td>0.583333</td>\n",
       "      <td>0.857143</td>\n",
       "      <td>0.130950</td>\n",
       "      <td>2</td>\n",
       "      <td>0</td>\n",
       "      <td>0</td>\n",
       "      <td>0</td>\n",
       "      <td>0</td>\n",
       "      <td>...</td>\n",
       "      <td>1</td>\n",
       "      <td>0</td>\n",
       "      <td>0</td>\n",
       "      <td>0</td>\n",
       "      <td>0</td>\n",
       "      <td>0</td>\n",
       "      <td>0</td>\n",
       "      <td>0</td>\n",
       "      <td>1</td>\n",
       "      <td>0</td>\n",
       "    </tr>\n",
       "    <tr>\n",
       "      <th>1</th>\n",
       "      <td>1</td>\n",
       "      <td>8.922792</td>\n",
       "      <td>0.750000</td>\n",
       "      <td>0.428571</td>\n",
       "      <td>0.374431</td>\n",
       "      <td>2</td>\n",
       "      <td>0</td>\n",
       "      <td>0</td>\n",
       "      <td>0</td>\n",
       "      <td>0</td>\n",
       "      <td>...</td>\n",
       "      <td>0</td>\n",
       "      <td>0</td>\n",
       "      <td>1</td>\n",
       "      <td>0</td>\n",
       "      <td>0</td>\n",
       "      <td>0</td>\n",
       "      <td>0</td>\n",
       "      <td>0</td>\n",
       "      <td>1</td>\n",
       "      <td>0</td>\n",
       "    </tr>\n",
       "    <tr>\n",
       "      <th>2</th>\n",
       "      <td>2</td>\n",
       "      <td>8.497195</td>\n",
       "      <td>0.416667</td>\n",
       "      <td>0.714286</td>\n",
       "      <td>0.348210</td>\n",
       "      <td>2</td>\n",
       "      <td>0</td>\n",
       "      <td>0</td>\n",
       "      <td>0</td>\n",
       "      <td>0</td>\n",
       "      <td>...</td>\n",
       "      <td>0</td>\n",
       "      <td>0</td>\n",
       "      <td>0</td>\n",
       "      <td>0</td>\n",
       "      <td>0</td>\n",
       "      <td>0</td>\n",
       "      <td>0</td>\n",
       "      <td>0</td>\n",
       "      <td>1</td>\n",
       "      <td>0</td>\n",
       "    </tr>\n",
       "    <tr>\n",
       "      <th>3</th>\n",
       "      <td>5</td>\n",
       "      <td>10.295226</td>\n",
       "      <td>0.833333</td>\n",
       "      <td>0.714286</td>\n",
       "      <td>0.133143</td>\n",
       "      <td>4</td>\n",
       "      <td>0</td>\n",
       "      <td>0</td>\n",
       "      <td>0</td>\n",
       "      <td>0</td>\n",
       "      <td>...</td>\n",
       "      <td>0</td>\n",
       "      <td>1</td>\n",
       "      <td>0</td>\n",
       "      <td>0</td>\n",
       "      <td>0</td>\n",
       "      <td>0</td>\n",
       "      <td>0</td>\n",
       "      <td>0</td>\n",
       "      <td>1</td>\n",
       "      <td>0</td>\n",
       "    </tr>\n",
       "    <tr>\n",
       "      <th>4</th>\n",
       "      <td>6</td>\n",
       "      <td>10.596410</td>\n",
       "      <td>0.666667</td>\n",
       "      <td>0.857143</td>\n",
       "      <td>0.038732</td>\n",
       "      <td>2</td>\n",
       "      <td>0</td>\n",
       "      <td>0</td>\n",
       "      <td>0</td>\n",
       "      <td>0</td>\n",
       "      <td>...</td>\n",
       "      <td>0</td>\n",
       "      <td>0</td>\n",
       "      <td>0</td>\n",
       "      <td>0</td>\n",
       "      <td>0</td>\n",
       "      <td>0</td>\n",
       "      <td>0</td>\n",
       "      <td>0</td>\n",
       "      <td>1</td>\n",
       "      <td>0</td>\n",
       "    </tr>\n",
       "  </tbody>\n",
       "</table>\n",
       "<p>5 rows × 80 columns</p>\n",
       "</div>"
      ],
      "text/plain": [
       "   Unnamed: 0      price      year  cylinders  odometer  drive  \\\n",
       "0           0  10.491024  0.583333   0.857143  0.130950      2   \n",
       "1           1   8.922792  0.750000   0.428571  0.374431      2   \n",
       "2           2   8.497195  0.416667   0.714286  0.348210      2   \n",
       "3           5  10.295226  0.833333   0.714286  0.133143      4   \n",
       "4           6  10.596410  0.666667   0.857143  0.038732      2   \n",
       "\n",
       "   manufacturer_acura  manufacturer_alfa-romeo  manufacturer_aston-martin  \\\n",
       "0                   0                        0                          0   \n",
       "1                   0                        0                          0   \n",
       "2                   0                        0                          0   \n",
       "3                   0                        0                          0   \n",
       "4                   0                        0                          0   \n",
       "\n",
       "   manufacturer_audi  ...  type_other  type_pickup  type_sedan  type_truck  \\\n",
       "0                  0  ...           1            0           0           0   \n",
       "1                  0  ...           0            0           1           0   \n",
       "2                  0  ...           0            0           0           0   \n",
       "3                  0  ...           0            1           0           0   \n",
       "4                  0  ...           0            0           0           0   \n",
       "\n",
       "   type_van  type_wagon  state_midwest  state_northeast  state_south  \\\n",
       "0         0           0              0                0            1   \n",
       "1         0           0              0                0            1   \n",
       "2         0           0              0                0            1   \n",
       "3         0           0              0                0            1   \n",
       "4         0           0              0                0            1   \n",
       "\n",
       "   state_west  \n",
       "0           0  \n",
       "1           0  \n",
       "2           0  \n",
       "3           0  \n",
       "4           0  \n",
       "\n",
       "[5 rows x 80 columns]"
      ]
     },
     "execution_count": 17,
     "metadata": {},
     "output_type": "execute_result"
    }
   ],
   "source": [
    "train_df.head()"
   ]
  },
  {
   "cell_type": "markdown",
   "metadata": {},
   "source": [
    "### Splitting the Data into test and train"
   ]
  },
  {
   "cell_type": "code",
   "execution_count": 18,
   "metadata": {},
   "outputs": [],
   "source": [
    "y = train_df[\"price\"]\n",
    "x = train_df.drop(['price', 'Unnamed: 0'], axis=1)\n",
    "x_train,x_test,y_train,y_test = sklearn.model_selection.train_test_split(x,y,test_size=0.2,random_state=42)"
   ]
  },
  {
   "cell_type": "code",
   "execution_count": 19,
   "metadata": {},
   "outputs": [
    {
     "data": {
      "text/html": [
       "<div>\n",
       "<style scoped>\n",
       "    .dataframe tbody tr th:only-of-type {\n",
       "        vertical-align: middle;\n",
       "    }\n",
       "\n",
       "    .dataframe tbody tr th {\n",
       "        vertical-align: top;\n",
       "    }\n",
       "\n",
       "    .dataframe thead th {\n",
       "        text-align: right;\n",
       "    }\n",
       "</style>\n",
       "<table border=\"1\" class=\"dataframe\">\n",
       "  <thead>\n",
       "    <tr style=\"text-align: right;\">\n",
       "      <th></th>\n",
       "      <th>year</th>\n",
       "      <th>cylinders</th>\n",
       "      <th>odometer</th>\n",
       "      <th>drive</th>\n",
       "      <th>manufacturer_acura</th>\n",
       "      <th>manufacturer_alfa-romeo</th>\n",
       "      <th>manufacturer_aston-martin</th>\n",
       "      <th>manufacturer_audi</th>\n",
       "      <th>manufacturer_bmw</th>\n",
       "      <th>manufacturer_buick</th>\n",
       "      <th>...</th>\n",
       "      <th>type_other</th>\n",
       "      <th>type_pickup</th>\n",
       "      <th>type_sedan</th>\n",
       "      <th>type_truck</th>\n",
       "      <th>type_van</th>\n",
       "      <th>type_wagon</th>\n",
       "      <th>state_midwest</th>\n",
       "      <th>state_northeast</th>\n",
       "      <th>state_south</th>\n",
       "      <th>state_west</th>\n",
       "    </tr>\n",
       "  </thead>\n",
       "  <tbody>\n",
       "    <tr>\n",
       "      <th>220052</th>\n",
       "      <td>0.958333</td>\n",
       "      <td>0.714286</td>\n",
       "      <td>0.040324</td>\n",
       "      <td>2</td>\n",
       "      <td>0</td>\n",
       "      <td>0</td>\n",
       "      <td>0</td>\n",
       "      <td>0</td>\n",
       "      <td>0</td>\n",
       "      <td>0</td>\n",
       "      <td>...</td>\n",
       "      <td>0</td>\n",
       "      <td>1</td>\n",
       "      <td>0</td>\n",
       "      <td>0</td>\n",
       "      <td>0</td>\n",
       "      <td>0</td>\n",
       "      <td>0</td>\n",
       "      <td>0</td>\n",
       "      <td>1</td>\n",
       "      <td>0</td>\n",
       "    </tr>\n",
       "    <tr>\n",
       "      <th>10665</th>\n",
       "      <td>0.333333</td>\n",
       "      <td>0.428571</td>\n",
       "      <td>0.273475</td>\n",
       "      <td>2</td>\n",
       "      <td>0</td>\n",
       "      <td>0</td>\n",
       "      <td>0</td>\n",
       "      <td>0</td>\n",
       "      <td>0</td>\n",
       "      <td>0</td>\n",
       "      <td>...</td>\n",
       "      <td>0</td>\n",
       "      <td>0</td>\n",
       "      <td>0</td>\n",
       "      <td>0</td>\n",
       "      <td>0</td>\n",
       "      <td>0</td>\n",
       "      <td>0</td>\n",
       "      <td>0</td>\n",
       "      <td>0</td>\n",
       "      <td>1</td>\n",
       "    </tr>\n",
       "    <tr>\n",
       "      <th>102772</th>\n",
       "      <td>0.750000</td>\n",
       "      <td>0.428571</td>\n",
       "      <td>0.308018</td>\n",
       "      <td>2</td>\n",
       "      <td>0</td>\n",
       "      <td>0</td>\n",
       "      <td>0</td>\n",
       "      <td>0</td>\n",
       "      <td>0</td>\n",
       "      <td>0</td>\n",
       "      <td>...</td>\n",
       "      <td>0</td>\n",
       "      <td>0</td>\n",
       "      <td>1</td>\n",
       "      <td>0</td>\n",
       "      <td>0</td>\n",
       "      <td>0</td>\n",
       "      <td>1</td>\n",
       "      <td>0</td>\n",
       "      <td>0</td>\n",
       "      <td>0</td>\n",
       "    </tr>\n",
       "    <tr>\n",
       "      <th>90016</th>\n",
       "      <td>0.791667</td>\n",
       "      <td>0.428571</td>\n",
       "      <td>0.528394</td>\n",
       "      <td>4</td>\n",
       "      <td>0</td>\n",
       "      <td>0</td>\n",
       "      <td>0</td>\n",
       "      <td>0</td>\n",
       "      <td>0</td>\n",
       "      <td>0</td>\n",
       "      <td>...</td>\n",
       "      <td>0</td>\n",
       "      <td>0</td>\n",
       "      <td>1</td>\n",
       "      <td>0</td>\n",
       "      <td>0</td>\n",
       "      <td>0</td>\n",
       "      <td>0</td>\n",
       "      <td>0</td>\n",
       "      <td>0</td>\n",
       "      <td>1</td>\n",
       "    </tr>\n",
       "    <tr>\n",
       "      <th>294161</th>\n",
       "      <td>0.708333</td>\n",
       "      <td>1.000000</td>\n",
       "      <td>0.386033</td>\n",
       "      <td>4</td>\n",
       "      <td>0</td>\n",
       "      <td>0</td>\n",
       "      <td>0</td>\n",
       "      <td>0</td>\n",
       "      <td>0</td>\n",
       "      <td>0</td>\n",
       "      <td>...</td>\n",
       "      <td>0</td>\n",
       "      <td>0</td>\n",
       "      <td>0</td>\n",
       "      <td>1</td>\n",
       "      <td>0</td>\n",
       "      <td>0</td>\n",
       "      <td>1</td>\n",
       "      <td>0</td>\n",
       "      <td>0</td>\n",
       "      <td>0</td>\n",
       "    </tr>\n",
       "  </tbody>\n",
       "</table>\n",
       "<p>5 rows × 78 columns</p>\n",
       "</div>"
      ],
      "text/plain": [
       "            year  cylinders  odometer  drive  manufacturer_acura  \\\n",
       "220052  0.958333   0.714286  0.040324      2                   0   \n",
       "10665   0.333333   0.428571  0.273475      2                   0   \n",
       "102772  0.750000   0.428571  0.308018      2                   0   \n",
       "90016   0.791667   0.428571  0.528394      4                   0   \n",
       "294161  0.708333   1.000000  0.386033      4                   0   \n",
       "\n",
       "        manufacturer_alfa-romeo  manufacturer_aston-martin  manufacturer_audi  \\\n",
       "220052                        0                          0                  0   \n",
       "10665                         0                          0                  0   \n",
       "102772                        0                          0                  0   \n",
       "90016                         0                          0                  0   \n",
       "294161                        0                          0                  0   \n",
       "\n",
       "        manufacturer_bmw  manufacturer_buick  ...  type_other  type_pickup  \\\n",
       "220052                 0                   0  ...           0            1   \n",
       "10665                  0                   0  ...           0            0   \n",
       "102772                 0                   0  ...           0            0   \n",
       "90016                  0                   0  ...           0            0   \n",
       "294161                 0                   0  ...           0            0   \n",
       "\n",
       "        type_sedan  type_truck  type_van  type_wagon  state_midwest  \\\n",
       "220052           0           0         0           0              0   \n",
       "10665            0           0         0           0              0   \n",
       "102772           1           0         0           0              1   \n",
       "90016            1           0         0           0              0   \n",
       "294161           0           1         0           0              1   \n",
       "\n",
       "        state_northeast  state_south  state_west  \n",
       "220052                0            1           0  \n",
       "10665                 0            0           1  \n",
       "102772                0            0           0  \n",
       "90016                 0            0           1  \n",
       "294161                0            0           0  \n",
       "\n",
       "[5 rows x 78 columns]"
      ]
     },
     "execution_count": 19,
     "metadata": {},
     "output_type": "execute_result"
    }
   ],
   "source": [
    "x_train.head()"
   ]
  },
  {
   "cell_type": "markdown",
   "metadata": {},
   "source": [
    "### GradientBoosting Model"
   ]
  },
  {
   "cell_type": "code",
   "execution_count": 48,
   "metadata": {},
   "outputs": [],
   "source": [
    "#GradientBoosting model\n",
    "params = {'n_estimators': 500, 'max_depth': 8,'learning_rate': 0.1}\n",
    "gb_model = ensemble.GradientBoostingRegressor(**params)"
   ]
  },
  {
   "cell_type": "code",
   "execution_count": 49,
   "metadata": {},
   "outputs": [],
   "source": [
    "#Training the Gradient boost model\n",
    "gb_model = gb_model.fit(x_train, y_train)"
   ]
  },
  {
   "cell_type": "code",
   "execution_count": 50,
   "metadata": {
    "scrolled": true
   },
   "outputs": [],
   "source": [
    "#Predict test\n",
    "y_pred=gb_model.predict(x_test)\n",
    "#Predict train\n",
    "train_pred = gb.model(x_train)"
   ]
  },
  {
   "cell_type": "code",
   "execution_count": 58,
   "metadata": {},
   "outputs": [
    {
     "name": "stdout",
     "output_type": "stream",
     "text": [
      "rmse(Train): 0.2754892285733874\n",
      "rmse(Test): 0.250810743490817\n"
     ]
    }
   ],
   "source": [
    "#train \n",
    "mse1 = mean_squared_error(y_train, train_pred)\n",
    "rmse1 = sqrt(mse1)\n",
    "print(\"rmse(Train):\", rmse1)\n",
    "#test\n",
    "mse = mean_squared_error(y_test, y_pred)\n",
    "rmse = sqrt(mse)\n",
    "print(\"rmse(Test):\", rmse)"
   ]
  },
  {
   "cell_type": "code",
   "execution_count": 59,
   "metadata": {},
   "outputs": [
    {
     "name": "stdout",
     "output_type": "stream",
     "text": [
      "r_squared(Train): 0.8577193686904432\n",
      "r_squared(Test): 0.8813092063873208\n"
     ]
    }
   ],
   "source": [
    "#train\n",
    "r_sqr1 = r2_score(y_train, train_pred)\n",
    "print(\"r_squared(Train):\",r_sqr1)\n",
    "#test\n",
    "r_sqr = r2_score(y_test, y_pred)\n",
    "print(\"r_squared(Test):\",r_sqr)"
   ]
  },
  {
   "cell_type": "code",
   "execution_count": 101,
   "metadata": {},
   "outputs": [
    {
     "data": {
      "text/html": [
       "<div>\n",
       "<style scoped>\n",
       "    .dataframe tbody tr th:only-of-type {\n",
       "        vertical-align: middle;\n",
       "    }\n",
       "\n",
       "    .dataframe tbody tr th {\n",
       "        vertical-align: top;\n",
       "    }\n",
       "\n",
       "    .dataframe thead th {\n",
       "        text-align: right;\n",
       "    }\n",
       "</style>\n",
       "<table border=\"1\" class=\"dataframe\">\n",
       "  <thead>\n",
       "    <tr style=\"text-align: right;\">\n",
       "      <th></th>\n",
       "      <th>score</th>\n",
       "      <th>features</th>\n",
       "    </tr>\n",
       "  </thead>\n",
       "  <tbody>\n",
       "    <tr>\n",
       "      <th>0</th>\n",
       "      <td>0.494727</td>\n",
       "      <td>year</td>\n",
       "    </tr>\n",
       "    <tr>\n",
       "      <th>1</th>\n",
       "      <td>0.092697</td>\n",
       "      <td>cylinders</td>\n",
       "    </tr>\n",
       "    <tr>\n",
       "      <th>2</th>\n",
       "      <td>0.142817</td>\n",
       "      <td>odometer</td>\n",
       "    </tr>\n",
       "    <tr>\n",
       "      <th>3</th>\n",
       "      <td>0.059916</td>\n",
       "      <td>drive</td>\n",
       "    </tr>\n",
       "    <tr>\n",
       "      <th>4</th>\n",
       "      <td>0.000632</td>\n",
       "      <td>manufacturer_acura</td>\n",
       "    </tr>\n",
       "    <tr>\n",
       "      <th>...</th>\n",
       "      <td>...</td>\n",
       "      <td>...</td>\n",
       "    </tr>\n",
       "    <tr>\n",
       "      <th>73</th>\n",
       "      <td>0.000638</td>\n",
       "      <td>type_wagon</td>\n",
       "    </tr>\n",
       "    <tr>\n",
       "      <th>74</th>\n",
       "      <td>0.001762</td>\n",
       "      <td>state_midwest</td>\n",
       "    </tr>\n",
       "    <tr>\n",
       "      <th>75</th>\n",
       "      <td>0.001423</td>\n",
       "      <td>state_northeast</td>\n",
       "    </tr>\n",
       "    <tr>\n",
       "      <th>76</th>\n",
       "      <td>0.001701</td>\n",
       "      <td>state_south</td>\n",
       "    </tr>\n",
       "    <tr>\n",
       "      <th>77</th>\n",
       "      <td>0.005700</td>\n",
       "      <td>state_west</td>\n",
       "    </tr>\n",
       "  </tbody>\n",
       "</table>\n",
       "<p>78 rows × 2 columns</p>\n",
       "</div>"
      ],
      "text/plain": [
       "       score            features\n",
       "0   0.494727                year\n",
       "1   0.092697           cylinders\n",
       "2   0.142817            odometer\n",
       "3   0.059916               drive\n",
       "4   0.000632  manufacturer_acura\n",
       "..       ...                 ...\n",
       "73  0.000638          type_wagon\n",
       "74  0.001762       state_midwest\n",
       "75  0.001423     state_northeast\n",
       "76  0.001701         state_south\n",
       "77  0.005700          state_west\n",
       "\n",
       "[78 rows x 2 columns]"
      ]
     },
     "execution_count": 101,
     "metadata": {},
     "output_type": "execute_result"
    }
   ],
   "source": [
    "#Feature Importance Gradient Boosting\n",
    "feature_imp = pd.DataFrame(gb_model.feature_importances_,index=x_train.columns)\n",
    "feature_imp[\"columns\"] = feature_imp.index\n",
    "feature_imp.index=range(0,len(feature_imp))\n",
    "feature_imp.columns=[\"score\",\"features\"]\n",
    "feature_imp"
   ]
  },
  {
   "cell_type": "code",
   "execution_count": 102,
   "metadata": {},
   "outputs": [
    {
     "name": "stdout",
     "output_type": "stream",
     "text": [
      "manufacturer 0.0015327452322229417\n",
      "condition 0.0019328435485013833\n",
      "cylinders 0.09269724245759933\n",
      "fuel 0.010308950011526204\n",
      "title_status 0.0018380760044626983\n",
      "transmission 0.001890568326434982\n",
      "type 0.004924620932434968\n",
      "state 0.0026463041886821883\n",
      "Year 0.49472698991168457\n",
      "Odometer 0.14281664401045202\n"
     ]
    }
   ],
   "source": [
    "categorical_columns=['manufacturer','condition','cylinders','fuel','title_status','transmission','type','state']\n",
    "for cat in categorical_columns:\n",
    "    sco = (feature_imp[feature_imp[\"features\"].str.startswith(cat)][\"score\"].sum())/len(feature_imp[feature_imp[\"features\"].str.startswith(cat)][\"score\"])\n",
    "    print(cat,sco)\n",
    "    \n",
    "for index,row in feature_imp.iterrows():\n",
    "    if(row[\"features\"]==\"odometer\"):\n",
    "        print(\"Odometer\",(row[\"score\"]))\n",
    "    if(row[\"features\"]==\"year\"):\n",
    "        print(\"Year\",(row[\"score\"]))"
   ]
  },
  {
   "cell_type": "markdown",
   "metadata": {},
   "source": [
    "### XGBoost"
   ]
  },
  {
   "cell_type": "code",
   "execution_count": 64,
   "metadata": {},
   "outputs": [],
   "source": [
    "#XGBoost Model\n",
    "regressor = xgb.XGBRegressor(\n",
    "    n_estimators=100,\n",
    "    reg_lambda=1,\n",
    "    gamma=0,\n",
    "    max_depth=5\n",
    ")"
   ]
  },
  {
   "cell_type": "code",
   "execution_count": 65,
   "metadata": {},
   "outputs": [
    {
     "data": {
      "text/plain": [
       "XGBRegressor(base_score=0.5, booster='gbtree', colsample_bylevel=1,\n",
       "             colsample_bynode=1, colsample_bytree=1, gamma=0, gpu_id=-1,\n",
       "             importance_type='gain', interaction_constraints='',\n",
       "             learning_rate=0.300000012, max_delta_step=0, max_depth=5,\n",
       "             min_child_weight=1, missing=nan, monotone_constraints='()',\n",
       "             n_estimators=100, n_jobs=0, num_parallel_tree=1, random_state=0,\n",
       "             reg_alpha=0, reg_lambda=1, scale_pos_weight=1, subsample=1,\n",
       "             tree_method='exact', validate_parameters=1, verbosity=None)"
      ]
     },
     "execution_count": 65,
     "metadata": {},
     "output_type": "execute_result"
    }
   ],
   "source": [
    "#Training the XGBoost Model\n",
    "regressor.fit(x_train, y_train)"
   ]
  },
  {
   "cell_type": "code",
   "execution_count": 66,
   "metadata": {},
   "outputs": [],
   "source": [
    "#Predict test\n",
    "y_pred = regressor.predict(x_test)\n",
    "#Predict train\n",
    "train_pred = regressor.predict(x_train)"
   ]
  },
  {
   "cell_type": "code",
   "execution_count": 67,
   "metadata": {},
   "outputs": [
    {
     "name": "stdout",
     "output_type": "stream",
     "text": [
      "rmse(Train): 0.2754892285733874\n",
      "rmse(Test): 0.28333842752516675\n"
     ]
    }
   ],
   "source": [
    "#train\n",
    "mse_train = mean_squared_error(y_train, train_pred)\n",
    "rmse = math.sqrt(mse_train)\n",
    "print(\"rmse(Train):\",rmse)\n",
    "#test\n",
    "mse = mean_squared_error(y_test,y_pred)\n",
    "rmse=math.sqrt(mse)\n",
    "rmse\n",
    "print(\"rmse(Test):\",rmse)"
   ]
  },
  {
   "cell_type": "code",
   "execution_count": 68,
   "metadata": {},
   "outputs": [
    {
     "name": "stdout",
     "output_type": "stream",
     "text": [
      "r_squared(Train): 0.8577193686904432\n",
      "r_squared(Test): 0.8485268276098412\n"
     ]
    }
   ],
   "source": [
    "#train\n",
    "r_sqr1 = r2_score(y_train, train_pred)\n",
    "print(\"r_squared(Train):\",r_sqr1)\n",
    "#test\n",
    "r_sqr = r2_score(y_test, y_pred)\n",
    "print(\"r_squared(Test):\",r_sqr)"
   ]
  },
  {
   "cell_type": "code",
   "execution_count": 103,
   "metadata": {},
   "outputs": [
    {
     "data": {
      "text/html": [
       "<div>\n",
       "<style scoped>\n",
       "    .dataframe tbody tr th:only-of-type {\n",
       "        vertical-align: middle;\n",
       "    }\n",
       "\n",
       "    .dataframe tbody tr th {\n",
       "        vertical-align: top;\n",
       "    }\n",
       "\n",
       "    .dataframe thead th {\n",
       "        text-align: right;\n",
       "    }\n",
       "</style>\n",
       "<table border=\"1\" class=\"dataframe\">\n",
       "  <thead>\n",
       "    <tr style=\"text-align: right;\">\n",
       "      <th></th>\n",
       "      <th>score</th>\n",
       "      <th>features</th>\n",
       "    </tr>\n",
       "  </thead>\n",
       "  <tbody>\n",
       "    <tr>\n",
       "      <th>0</th>\n",
       "      <td>0.114812</td>\n",
       "      <td>year</td>\n",
       "    </tr>\n",
       "    <tr>\n",
       "      <th>1</th>\n",
       "      <td>0.028663</td>\n",
       "      <td>cylinders</td>\n",
       "    </tr>\n",
       "    <tr>\n",
       "      <th>2</th>\n",
       "      <td>0.027604</td>\n",
       "      <td>odometer</td>\n",
       "    </tr>\n",
       "    <tr>\n",
       "      <th>3</th>\n",
       "      <td>0.045809</td>\n",
       "      <td>drive</td>\n",
       "    </tr>\n",
       "    <tr>\n",
       "      <th>4</th>\n",
       "      <td>0.004947</td>\n",
       "      <td>manufacturer_acura</td>\n",
       "    </tr>\n",
       "    <tr>\n",
       "      <th>...</th>\n",
       "      <td>...</td>\n",
       "      <td>...</td>\n",
       "    </tr>\n",
       "    <tr>\n",
       "      <th>73</th>\n",
       "      <td>0.003875</td>\n",
       "      <td>type_wagon</td>\n",
       "    </tr>\n",
       "    <tr>\n",
       "      <th>74</th>\n",
       "      <td>0.003166</td>\n",
       "      <td>state_midwest</td>\n",
       "    </tr>\n",
       "    <tr>\n",
       "      <th>75</th>\n",
       "      <td>0.004964</td>\n",
       "      <td>state_northeast</td>\n",
       "    </tr>\n",
       "    <tr>\n",
       "      <th>76</th>\n",
       "      <td>0.002108</td>\n",
       "      <td>state_south</td>\n",
       "    </tr>\n",
       "    <tr>\n",
       "      <th>77</th>\n",
       "      <td>0.011722</td>\n",
       "      <td>state_west</td>\n",
       "    </tr>\n",
       "  </tbody>\n",
       "</table>\n",
       "<p>78 rows × 2 columns</p>\n",
       "</div>"
      ],
      "text/plain": [
       "       score            features\n",
       "0   0.114812                year\n",
       "1   0.028663           cylinders\n",
       "2   0.027604            odometer\n",
       "3   0.045809               drive\n",
       "4   0.004947  manufacturer_acura\n",
       "..       ...                 ...\n",
       "73  0.003875          type_wagon\n",
       "74  0.003166       state_midwest\n",
       "75  0.004964     state_northeast\n",
       "76  0.002108         state_south\n",
       "77  0.011722          state_west\n",
       "\n",
       "[78 rows x 2 columns]"
      ]
     },
     "execution_count": 103,
     "metadata": {},
     "output_type": "execute_result"
    }
   ],
   "source": [
    "#feature importance XGBoost\n",
    "feature_imp = pd.DataFrame(regressor.feature_importances_,index=x_train.columns)\n",
    "feature_imp[\"columns\"] = feature_imp.index\n",
    "feature_imp.index=range(0,len(feature_imp))\n",
    "feature_imp.columns=[\"score\",\"features\"]\n",
    "feature_imp"
   ]
  },
  {
   "cell_type": "code",
   "execution_count": 104,
   "metadata": {},
   "outputs": [
    {
     "name": "stdout",
     "output_type": "stream",
     "text": [
      "manufacturer 0.009860224113231751\n",
      "condition 0.00329400971531868\n",
      "cylinders 0.02866264618933201\n",
      "fuel 0.024207159876823425\n",
      "title_status 0.0071942514429489774\n",
      "transmission 0.006313098594546318\n",
      "type 0.013758071340047397\n",
      "state 0.005489964038133621\n",
      "Year 0.11481241881847382\n",
      "Odometer 0.027603738009929657\n"
     ]
    }
   ],
   "source": [
    "categorical_columns=['manufacturer','condition','cylinders','fuel','title_status','transmission','type','state']\n",
    "for cat in categorical_columns:\n",
    "    sco = (feature_imp[feature_imp[\"features\"].str.startswith(cat)][\"score\"].sum())/len(feature_imp[feature_imp[\"features\"].str.startswith(cat)][\"score\"])\n",
    "    print(cat,sco)\n",
    "    \n",
    "for index,row in feature_imp.iterrows():\n",
    "    if(row[\"features\"]==\"odometer\"):\n",
    "        print(\"Odometer\",(row[\"score\"]))\n",
    "    if(row[\"features\"]==\"year\"):\n",
    "        print(\"Year\",(row[\"score\"]))"
   ]
  },
  {
   "cell_type": "code",
   "execution_count": null,
   "metadata": {},
   "outputs": [],
   "source": []
  }
 ],
 "metadata": {
  "kernelspec": {
   "display_name": "Python 3",
   "language": "python",
   "name": "python3"
  },
  "language_info": {
   "codemirror_mode": {
    "name": "ipython",
    "version": 3
   },
   "file_extension": ".py",
   "mimetype": "text/x-python",
   "name": "python",
   "nbconvert_exporter": "python",
   "pygments_lexer": "ipython3",
   "version": "3.8.5"
  }
 },
 "nbformat": 4,
 "nbformat_minor": 4
}
